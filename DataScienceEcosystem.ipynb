{
 "cells": [
  {
   "cell_type": "markdown",
   "id": "25a1a722-1b72-404e-ad63-9e2d2620dac0",
   "metadata": {},
   "source": [
    "# **Data Science Tools and Ecosystem**"
   ]
  },
  {
   "cell_type": "markdown",
   "id": "d2971760-4592-4573-8b16-43fb130ee48f",
   "metadata": {},
   "source": [
    "In this notebook, Data Science Tools and Ecosystems are summarized."
   ]
  },
  {
   "cell_type": "markdown",
   "id": "75e51c7e-59c6-493c-b28e-79c8fa06c8a7",
   "metadata": {},
   "source": [
    "**Objectives:**\n",
    "- List popular languages for Data Science\n",
    "- List commonly used libraries used by Data Scientists\n",
    "- Provide examples of evaluating arithmetic expressions"
   ]
  },
  {
   "cell_type": "markdown",
   "id": "85b78c45-e738-48da-8af1-721b2dcefd74",
   "metadata": {},
   "source": [
    "Some of the popular languages that Data Scientists use are:"
   ]
  },
  {
   "cell_type": "markdown",
   "id": "3082fa2a-a633-4ec2-8195-06d359d57338",
   "metadata": {},
   "source": [
    "1. Python\n",
    "2. R\n",
    "3. SQL"
   ]
  },
  {
   "cell_type": "markdown",
   "id": "6bfc088f-7ef3-40bc-a1c1-0e42e8800802",
   "metadata": {},
   "source": [
    "Some of the commonly used libraries used by Data Scientists include:\n",
    "1. NumPy\n",
    "2. Pandas\n",
    "3. Matplotlib"
   ]
  },
  {
   "cell_type": "markdown",
   "id": "30c679c3-7429-4639-9496-41be69972b38",
   "metadata": {},
   "source": [
    "|***Data Science Tools*** |\n",
    "| ----------------------  |\n",
    "|1. Jupyter Notebook|\n",
    "|2. RStudio|\n",
    "|3. Spyder|"
   ]
  },
  {
   "cell_type": "markdown",
   "id": "42e1f7a5-2322-4486-8a8a-1c92b5b6b88d",
   "metadata": {},
   "source": [
    "### Below are a few examples of evaluating arithmetic expressions in Python"
   ]
  },
  {
   "cell_type": "code",
   "execution_count": 12,
   "id": "552b7381-fbce-4aed-97b4-ab80110791e8",
   "metadata": {
    "tags": []
   },
   "outputs": [
    {
     "data": {
      "text/plain": [
       "17"
      ]
     },
     "execution_count": 12,
     "metadata": {},
     "output_type": "execute_result"
    }
   ],
   "source": [
    "# This a simple arithmetic expression to mutiply then add integers\n",
    "(3*4)+5"
   ]
  },
  {
   "cell_type": "code",
   "execution_count": 13,
   "id": "81c3ae68-95f0-4c61-b350-03117e9e0b57",
   "metadata": {
    "tags": []
   },
   "outputs": [
    {
     "data": {
      "text/plain": [
       "3.3333333333333335"
      ]
     },
     "execution_count": 13,
     "metadata": {},
     "output_type": "execute_result"
    }
   ],
   "source": [
    "# This will convert 200 minutes to hours by diving by 60\n",
    "200/60"
   ]
  },
  {
   "cell_type": "markdown",
   "id": "c5ca7f85-0542-406a-b7ed-802b86a629bc",
   "metadata": {},
   "source": [
    "## ***Author***\n",
    "*Aleksandar Vlahović*"
   ]
  },
  {
   "cell_type": "code",
   "execution_count": null,
   "id": "ea7cfa1d-2385-4559-b3cb-530fee9171c0",
   "metadata": {},
   "outputs": [],
   "source": []
  }
 ],
 "metadata": {
  "kernelspec": {
   "display_name": "Python 3 (ipykernel)",
   "language": "python",
   "name": "python3"
  },
  "language_info": {
   "codemirror_mode": {
    "name": "ipython",
    "version": 3
   },
   "file_extension": ".py",
   "mimetype": "text/x-python",
   "name": "python",
   "nbconvert_exporter": "python",
   "pygments_lexer": "ipython3",
   "version": "3.11.5"
  }
 },
 "nbformat": 4,
 "nbformat_minor": 5
}
